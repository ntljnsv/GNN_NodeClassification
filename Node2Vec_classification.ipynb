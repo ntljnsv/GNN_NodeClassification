{
  "nbformat": 4,
  "nbformat_minor": 0,
  "metadata": {
    "colab": {
      "provenance": []
    },
    "kernelspec": {
      "name": "python3",
      "display_name": "Python 3"
    },
    "language_info": {
      "name": "python"
    }
  },
  "cells": [
    {
      "cell_type": "code",
      "execution_count": null,
      "metadata": {
        "id": "hymv_vEl6HKW"
      },
      "outputs": [],
      "source": [
        "import torch\n",
        "print(torch.__version__)"
      ]
    },
    {
      "cell_type": "code",
      "source": [
        "!pip install pyg_lib torch_scatter torch_sparse torch_cluster torch_spline_conv -f https://data.pyg.org/whl/torch-2.5.1+cu124.html"
      ],
      "metadata": {
        "id": "Y-4Y8oJg6S4J"
      },
      "execution_count": null,
      "outputs": []
    },
    {
      "cell_type": "code",
      "source": [
        "!pip install torch_geometric"
      ],
      "metadata": {
        "id": "0bE94-4D6T1P"
      },
      "execution_count": null,
      "outputs": []
    },
    {
      "cell_type": "code",
      "source": [
        "import matplotlib.pyplot as plt\n",
        "from sklearn.manifold import TSNE\n",
        "from torch_geometric.nn import Node2Vec\n",
        "from sklearn.metrics import classification_report, accuracy_score\n",
        "from sklearn.ensemble import RandomForestClassifier\n",
        "from sklearn.model_selection import train_test_split\n",
        "from node_embeddings import train\n",
        "from torch_geometric.datasets import Actor\n",
        "from tqdm import tqdm\n",
        "from torch.optim import SparseAdam"
      ],
      "metadata": {
        "id": "j-ec6RFa6Uzv"
      },
      "execution_count": null,
      "outputs": []
    },
    {
      "cell_type": "code",
      "source": [
        "data = Actor('../data')\n",
        "data"
      ],
      "metadata": {
        "id": "RHdO6XpH6V8Y"
      },
      "execution_count": null,
      "outputs": []
    },
    {
      "cell_type": "code",
      "source": [
        "dataset = data[0]\n",
        "dataset"
      ],
      "metadata": {
        "id": "aapA4Cj06X93"
      },
      "execution_count": null,
      "outputs": []
    },
    {
      "cell_type": "code",
      "source": [
        "labels = dataset.y.detach().cpu().numpy()\n",
        "labels"
      ],
      "metadata": {
        "id": "De5xvk3u6c3U"
      },
      "execution_count": null,
      "outputs": []
    },
    {
      "cell_type": "code",
      "source": [
        "def train(model, epochs=5, batch_size=32, lr=0.01, device='cpu'):\n",
        "  model = model.to(device)\n",
        "  loader = model.loader(batch_size=batch_size, shuffle=True, num_workers=1)\n",
        "  optimizer = SparseAdam(list(model.parameters()), lr=lr)\n",
        "\n",
        "  model.train()\n",
        "\n",
        "  for epoch in range(epochs):\n",
        "    train_loss = 0\n",
        "\n",
        "    for pos_rw, neg_rw in tqdm(loader):\n",
        "      optimizer.zero_grad()\n",
        "\n",
        "      loss = model.loss(pos_rw.to(device), neg_rw.to(device))\n",
        "      loss.backward()\n",
        "\n",
        "      optimizer.step()\n",
        "\n",
        "      train_loss += loss.item()\n",
        "\n",
        "    train_loss = train_loss / len(loader)\n",
        "\n",
        "    print(f'Epoch: {epoch:02d}, Loss: {train_loss:.4f}')"
      ],
      "metadata": {
        "id": "t_uI2zlH7ZvS"
      },
      "execution_count": null,
      "outputs": []
    },
    {
      "cell_type": "code",
      "source": [
        "model = Node2Vec(dataset.edge_index,\n",
        "                 embedding_dim=64,\n",
        "                 walk_length=30,\n",
        "                 context_size=15,\n",
        "                 walks_per_node=20,\n",
        "                 num_negative_samples=5,\n",
        "                 p=2, q=0.5, sparse=True)"
      ],
      "metadata": {
        "id": "HV-InSY96eEV"
      },
      "execution_count": null,
      "outputs": []
    },
    {
      "cell_type": "code",
      "source": [
        "train(model, epochs=100, batch_size=64, lr=0.001, device=\"cuda\")"
      ],
      "metadata": {
        "id": "JyCOVVmO6fhz"
      },
      "execution_count": null,
      "outputs": []
    },
    {
      "cell_type": "code",
      "source": [
        "node_embeddings = model().detach().cpu().numpy()"
      ],
      "metadata": {
        "id": "rXmDmVCO6hal"
      },
      "execution_count": null,
      "outputs": []
    },
    {
      "cell_type": "code",
      "source": [
        "train_x, test_x, train_y, test_y = train_test_split(node_embeddings,\n",
        "                                                    labels,\n",
        "                                                    test_size=0.2,\n",
        "                                                    stratify=labels)"
      ],
      "metadata": {
        "id": "wUCkgNcv6ig3"
      },
      "execution_count": null,
      "outputs": []
    },
    {
      "cell_type": "code",
      "source": [
        "random_forest = RandomForestClassifier()\n",
        "random_forest.fit(train_x, train_y)"
      ],
      "metadata": {
        "id": "44BzbuOa6kVA"
      },
      "execution_count": null,
      "outputs": []
    },
    {
      "cell_type": "code",
      "source": [
        "preds = random_forest.predict(test_x)"
      ],
      "metadata": {
        "id": "KIFCHKx_6ltZ"
      },
      "execution_count": null,
      "outputs": []
    },
    {
      "cell_type": "code",
      "source": [
        "accuracy_score(preds, test_y)"
      ],
      "metadata": {
        "id": "VwJuoNBw6mui"
      },
      "execution_count": null,
      "outputs": []
    },
    {
      "cell_type": "code",
      "source": [
        "print(classification_report(preds, test_y))"
      ],
      "metadata": {
        "id": "1o5OByFI6zCI"
      },
      "execution_count": null,
      "outputs": []
    },
    {
      "cell_type": "code",
      "source": [
        "tsne = TSNE(n_components=2)\n",
        "node_embeddings_2d = tsne.fit_transform(node_embeddings)\n",
        "plt.scatter(node_embeddings_2d[:, 0], node_embeddings_2d[:, 1],\n",
        "            c=labels, cmap='jet', alpha=0.7)"
      ],
      "metadata": {
        "id": "rUxmChNw60K5"
      },
      "execution_count": null,
      "outputs": []
    }
  ]
}
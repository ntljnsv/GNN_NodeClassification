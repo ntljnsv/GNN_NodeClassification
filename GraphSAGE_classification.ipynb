{
  "nbformat": 4,
  "nbformat_minor": 0,
  "metadata": {
    "colab": {
      "provenance": []
    },
    "kernelspec": {
      "name": "python3",
      "display_name": "Python 3"
    },
    "language_info": {
      "name": "python"
    }
  },
  "cells": [
    {
      "cell_type": "code",
      "execution_count": null,
      "metadata": {
        "id": "hymv_vEl6HKW"
      },
      "outputs": [],
      "source": [
        "import torch\n",
        "print(torch.__version__)"
      ]
    },
    {
      "cell_type": "code",
      "source": [
        "!pip install pyg_lib torch_scatter torch_sparse torch_cluster torch_spline_conv -f https://data.pyg.org/whl/torch-2.5.1+cu124.html"
      ],
      "metadata": {
        "id": "Y-4Y8oJg6S4J"
      },
      "execution_count": null,
      "outputs": []
    },
    {
      "cell_type": "code",
      "source": [
        "!pip install torch_geometric"
      ],
      "metadata": {
        "id": "0bE94-4D6T1P"
      },
      "execution_count": null,
      "outputs": []
    },
    {
      "cell_type": "code",
      "source": [
        "import matplotlib.pyplot as plt\n",
        "from sklearn.manifold import TSNE\n",
        "from torch_geometric.nn import Node2Vec\n",
        "from sklearn.metrics import classification_report, accuracy_score\n",
        "from sklearn.model_selection import train_test_split\n",
        "from node_embeddings import train\n",
        "from torch_geometric.datasets import Actor\n",
        "from torch.optim import Adam\n",
        "from torch.nn import CrossEntropyLoss\n",
        "from torch_geometric.nn import GCNConv, Linear, SAGEConv\n",
        "from torch.nn import Dropout"
      ],
      "metadata": {
        "id": "j-ec6RFa6Uzv"
      },
      "execution_count": null,
      "outputs": []
    },
    {
      "cell_type": "code",
      "source": [
        "data = Actor('../data')\n",
        "data"
      ],
      "metadata": {
        "id": "RHdO6XpH6V8Y"
      },
      "execution_count": null,
      "outputs": []
    },
    {
      "cell_type": "code",
      "source": [
        "dataset = data[0]\n",
        "dataset"
      ],
      "metadata": {
        "id": "aapA4Cj06X93"
      },
      "execution_count": null,
      "outputs": []
    },
    {
      "cell_type": "code",
      "source": [
        "labels = dataset.y.detach().cpu().numpy()\n",
        "labels"
      ],
      "metadata": {
        "id": "De5xvk3u6c3U"
      },
      "execution_count": null,
      "outputs": []
    },
    {
      "cell_type": "code",
      "source": [
        "class GCN(torch.nn.Module):\n",
        "    def __init__(self, num_classes):\n",
        "        super().__init__()\n",
        "\n",
        "        self.conv1 = SAGEConv(-1, 128)  #128\n",
        "        self.conv2 = SAGEConv(-1, 256)\n",
        "        self.conv3 = SAGEConv(-1, 512)\n",
        "\n",
        "        self.linear1 = Linear(512, 256)\n",
        "        self.linear2 = Linear(256, 128)\n",
        "        self.linear3 = Linear(128, num_classes)\n",
        "\n",
        "        self.dropout = Dropout(0.2) # 0.3\n",
        "\n",
        "    def forward(self, x, edge_index):\n",
        "        x = self.conv1(x, edge_index).relu()\n",
        "        x = self.dropout(x)\n",
        "\n",
        "        x = self.conv2(x, edge_index).relu()\n",
        "        x = self.dropout(x)\n",
        "\n",
        "        x = self.conv3(x, edge_index).relu()\n",
        "        x = self.dropout(x)\n",
        "\n",
        "        x = self.linear1(x)\n",
        "        x = self.dropout(x)\n",
        "\n",
        "        x = self.linear2(x)\n",
        "        x = self.dropout(x)\n",
        "\n",
        "        x = self.linear3(x)\n",
        "\n",
        "        return x"
      ],
      "metadata": {
        "id": "t_uI2zlH7ZvS"
      },
      "execution_count": null,
      "outputs": []
    },
    {
      "cell_type": "code",
      "source": [
        "model = GCN(num_classes=5)"
      ],
      "metadata": {
        "id": "HV-InSY96eEV"
      },
      "execution_count": null,
      "outputs": []
    },
    {
      "cell_type": "code",
      "source": [
        "optimizer = Adam(model.parameters(), lr=0.001)"
      ],
      "metadata": {
        "id": "JyCOVVmO6fhz"
      },
      "execution_count": null,
      "outputs": []
    },
    {
      "cell_type": "code",
      "source": [
        "criterion = CrossEntropyLoss()"
      ],
      "metadata": {
        "id": "rXmDmVCO6hal"
      },
      "execution_count": null,
      "outputs": []
    },
    {
      "cell_type": "code",
      "source": [
        "def train(model, dataset, optimizer, criterion, epochs=5):\n",
        "    if len(dataset.train_mask.shape) > 1:\n",
        "        train_mask = dataset.train_mask[:, 0]\n",
        "    else:\n",
        "        train_mask = dataset.train_mask\n",
        "\n",
        "    for epoch in range(epochs):\n",
        "        model.train()\n",
        "        optimizer.zero_grad()\n",
        "        out = model(dataset.x, dataset.edge_index)\n",
        "        loss = criterion(out[train_mask],\n",
        "                         dataset.y[train_mask])\n",
        "        loss.backward()\n",
        "        optimizer.step()\n",
        "\n",
        "        print(f'Epoch: {epoch:03d}, Loss: {loss:.4f}')"
      ],
      "metadata": {
        "id": "wUCkgNcv6ig3"
      },
      "execution_count": null,
      "outputs": []
    },
    {
      "cell_type": "code",
      "source": [
        "train(model=model, dataset=dataset, optimizer=optimizer, criterion=criterion, epochs=300)"
      ],
      "metadata": {
        "id": "44BzbuOa6kVA"
      },
      "execution_count": null,
      "outputs": []
    },
    {
      "cell_type": "code",
      "source": [
        "node_embeddings = model.conv1(dataset.x, dataset.edge_index).detach().cpu().numpy()"
      ],
      "metadata": {
        "id": "KIFCHKx_6ltZ"
      },
      "execution_count": null,
      "outputs": []
    },
    {
      "cell_type": "code",
      "source": [
        "labels = dataset.y.detach().cpu().numpy()"
      ],
      "metadata": {
        "id": "VwJuoNBw6mui"
      },
      "execution_count": null,
      "outputs": []
    },
    {
      "cell_type": "code",
      "source": [
        "tsne = TSNE(n_components=2)\n",
        "node_embeddings_2d = tsne.fit_transform(node_embeddings)\n",
        "plt.scatter(node_embeddings_2d[:, 0], node_embeddings_2d[:, 1],\n",
        "            c=labels, cmap='jet', alpha=0.7)"
      ],
      "metadata": {
        "id": "1o5OByFI6zCI"
      },
      "execution_count": null,
      "outputs": []
    },
    {
      "cell_type": "code",
      "source": [
        "out = model(dataset.x, dataset.edge_index)\n",
        "preds = out.argmax(dim=1)"
      ],
      "metadata": {
        "id": "rUxmChNw60K5"
      },
      "execution_count": null,
      "outputs": []
    },
    {
      "cell_type": "code",
      "source": [
        "test_idx = dataset.test_mask.nonzero(as_tuple=True)[0]\n",
        "test_preds = preds[test_idx].cpu().numpy()\n",
        "test_labels = data.y[test_idx].cpu().numpy()"
      ],
      "metadata": {
        "id": "rru_STAX9Hyx"
      },
      "execution_count": null,
      "outputs": []
    },
    {
      "cell_type": "code",
      "source": [
        "accuracy_score(test_labels, test_preds)"
      ],
      "metadata": {
        "id": "rjH1I21F9JTF"
      },
      "execution_count": null,
      "outputs": []
    },
    {
      "cell_type": "code",
      "source": [
        "print(classification_report(test_labels, test_preds))"
      ],
      "metadata": {
        "id": "uaEpYCIw9L-f"
      },
      "execution_count": null,
      "outputs": []
    }
  ]
}